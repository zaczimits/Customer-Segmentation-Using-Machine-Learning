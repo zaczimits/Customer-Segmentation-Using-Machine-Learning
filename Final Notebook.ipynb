{
 "cells": [
  {
   "cell_type": "markdown",
   "metadata": {},
   "source": [
    "# Customer Segmentation Using Machine Learning"
   ]
  },
  {
   "cell_type": "markdown",
   "metadata": {},
   "source": [
    "## Project Description"
   ]
  },
  {
   "cell_type": "markdown",
   "metadata": {},
   "source": [
    "Using a dataset from the UCI Machine Learning Repository, customers of an e-commerce company are segmented using an RFM analysis. An RFM analysis classifies customers based on the recency of their last purchase, frequency of purchase, and the monetary value of each purchase. Multiple machine learning models are constructed and evaluated to determine the most effective model for the segmentation of this dataset."
   ]
  },
  {
   "cell_type": "markdown",
   "metadata": {},
   "source": [
    "## Why Is This Project Important?"
   ]
  },
  {
   "cell_type": "markdown",
   "metadata": {},
   "source": [
    "Classifying customers based on their habits is critical in order for marketing teams to be able to push appropriate offers to each customer. It empowers marketers to quickly categorize customers and push tailored or even personalized content to them in real time. The successful use of RFM analysis has been proven to increase customer retention, engagement, and money spent."
   ]
  },
  {
   "cell_type": "markdown",
   "metadata": {},
   "source": [
    "## The Dataset"
   ]
  },
  {
   "cell_type": "markdown",
   "metadata": {},
   "source": [
    "#### Overview\n",
    "The dataset was taken from the UCI Machine Learning Repository and is titled \"Online Retail\". It contains e-commerce transactions for a UK-based company between 2010 and 2011. Along with the dataset, UCI provided some details regarding the attributes in the dataset."
   ]
  },
  {
   "cell_type": "markdown",
   "metadata": {},
   "source": [
    "#### Attributes\n",
    "*InvoiceNo:* Invoice number. Nominal. A 6-digit integral number uniquely assigned to each transaction. If this code starts with the letter 'c', it indicates a cancellation.\n",
    "\n",
    "*StockCode:* Product (item) code. Nominal. A 5-digit integral number uniquely assigned to each distinct product.\n",
    "\n",
    "*Description:* Product (item) name. Nominal.\n",
    "\n",
    "*Quantity:* The quantities of each product (item) per transaction. Numeric.\n",
    "\n",
    "*InvoiceDate:* Invoice date and time. Numeric. The day and time when a transaction was generated.\n",
    "\n",
    "*UnitPrice:* Unit price. Numeric. Product price per unit in sterling (£).\n",
    "\n",
    "*CustomerID:* Customer number. Nominal. A 5-digit integral number uniquely assigned to each customer.\n",
    "\n",
    "*Country:* Country name. Nominal. The name of the country where a customer resides."
   ]
  },
  {
   "cell_type": "markdown",
   "metadata": {},
   "source": [
    "#### Importing the Dataset\n",
    "The dataset, along with the Python libraries I will use for this project, is imported below:"
   ]
  },
  {
   "cell_type": "code",
   "execution_count": 1,
   "metadata": {},
   "outputs": [],
   "source": [
    "import numpy as np\n",
    "import pandas as pd\n",
    "import matplotlib.pyplot as plt\n",
    "%matplotlib inline\n",
    "from warnings import filterwarnings\n",
    "filterwarnings('ignore')"
   ]
  },
  {
   "cell_type": "code",
   "execution_count": 2,
   "metadata": {},
   "outputs": [
    {
     "data": {
      "text/html": [
       "<div>\n",
       "<style scoped>\n",
       "    .dataframe tbody tr th:only-of-type {\n",
       "        vertical-align: middle;\n",
       "    }\n",
       "\n",
       "    .dataframe tbody tr th {\n",
       "        vertical-align: top;\n",
       "    }\n",
       "\n",
       "    .dataframe thead th {\n",
       "        text-align: right;\n",
       "    }\n",
       "</style>\n",
       "<table border=\"1\" class=\"dataframe\">\n",
       "  <thead>\n",
       "    <tr style=\"text-align: right;\">\n",
       "      <th></th>\n",
       "      <th>InvoiceNo</th>\n",
       "      <th>StockCode</th>\n",
       "      <th>Description</th>\n",
       "      <th>Quantity</th>\n",
       "      <th>InvoiceDate</th>\n",
       "      <th>UnitPrice</th>\n",
       "      <th>CustomerID</th>\n",
       "      <th>Country</th>\n",
       "    </tr>\n",
       "  </thead>\n",
       "  <tbody>\n",
       "    <tr>\n",
       "      <td>0</td>\n",
       "      <td>536365</td>\n",
       "      <td>85123A</td>\n",
       "      <td>WHITE HANGING HEART T-LIGHT HOLDER</td>\n",
       "      <td>6</td>\n",
       "      <td>12/1/2010 8:26</td>\n",
       "      <td>2.55</td>\n",
       "      <td>17850</td>\n",
       "      <td>United Kingdom</td>\n",
       "    </tr>\n",
       "    <tr>\n",
       "      <td>1</td>\n",
       "      <td>536365</td>\n",
       "      <td>71053</td>\n",
       "      <td>WHITE METAL LANTERN</td>\n",
       "      <td>6</td>\n",
       "      <td>12/1/2010 8:26</td>\n",
       "      <td>3.39</td>\n",
       "      <td>17850</td>\n",
       "      <td>United Kingdom</td>\n",
       "    </tr>\n",
       "    <tr>\n",
       "      <td>2</td>\n",
       "      <td>536365</td>\n",
       "      <td>84406B</td>\n",
       "      <td>CREAM CUPID HEARTS COAT HANGER</td>\n",
       "      <td>8</td>\n",
       "      <td>12/1/2010 8:26</td>\n",
       "      <td>2.75</td>\n",
       "      <td>17850</td>\n",
       "      <td>United Kingdom</td>\n",
       "    </tr>\n",
       "    <tr>\n",
       "      <td>3</td>\n",
       "      <td>536365</td>\n",
       "      <td>84029G</td>\n",
       "      <td>KNITTED UNION FLAG HOT WATER BOTTLE</td>\n",
       "      <td>6</td>\n",
       "      <td>12/1/2010 8:26</td>\n",
       "      <td>3.39</td>\n",
       "      <td>17850</td>\n",
       "      <td>United Kingdom</td>\n",
       "    </tr>\n",
       "    <tr>\n",
       "      <td>4</td>\n",
       "      <td>536365</td>\n",
       "      <td>84029E</td>\n",
       "      <td>RED WOOLLY HOTTIE WHITE HEART.</td>\n",
       "      <td>6</td>\n",
       "      <td>12/1/2010 8:26</td>\n",
       "      <td>3.39</td>\n",
       "      <td>17850</td>\n",
       "      <td>United Kingdom</td>\n",
       "    </tr>\n",
       "  </tbody>\n",
       "</table>\n",
       "</div>"
      ],
      "text/plain": [
       "  InvoiceNo StockCode                          Description  Quantity  \\\n",
       "0    536365    85123A   WHITE HANGING HEART T-LIGHT HOLDER         6   \n",
       "1    536365     71053                  WHITE METAL LANTERN         6   \n",
       "2    536365    84406B       CREAM CUPID HEARTS COAT HANGER         8   \n",
       "3    536365    84029G  KNITTED UNION FLAG HOT WATER BOTTLE         6   \n",
       "4    536365    84029E       RED WOOLLY HOTTIE WHITE HEART.         6   \n",
       "\n",
       "      InvoiceDate  UnitPrice CustomerID         Country  \n",
       "0  12/1/2010 8:26       2.55      17850  United Kingdom  \n",
       "1  12/1/2010 8:26       3.39      17850  United Kingdom  \n",
       "2  12/1/2010 8:26       2.75      17850  United Kingdom  \n",
       "3  12/1/2010 8:26       3.39      17850  United Kingdom  \n",
       "4  12/1/2010 8:26       3.39      17850  United Kingdom  "
      ]
     },
     "execution_count": 2,
     "metadata": {},
     "output_type": "execute_result"
    }
   ],
   "source": [
    "df_raw = pd.read_csv('data.csv', encoding=\"ISO-8859-1\", dtype={'CustomerID': str,'InvoiceID': str})\n",
    "df_raw.head()"
   ]
  },
  {
   "cell_type": "markdown",
   "metadata": {},
   "source": [
    "## Processing the Data"
   ]
  },
  {
   "cell_type": "markdown",
   "metadata": {},
   "source": [
    "#### Cleaning the Data\n",
    "Before performing exploratory analysis, I clean the dataset to ensure all of our rows are usable."
   ]
  },
  {
   "cell_type": "code",
   "execution_count": 3,
   "metadata": {},
   "outputs": [
    {
     "name": "stdout",
     "output_type": "stream",
     "text": [
      "<class 'pandas.core.frame.DataFrame'>\n",
      "RangeIndex: 541909 entries, 0 to 541908\n",
      "Data columns (total 8 columns):\n",
      "InvoiceNo      541909 non-null object\n",
      "StockCode      541909 non-null object\n",
      "Description    540455 non-null object\n",
      "Quantity       541909 non-null int64\n",
      "InvoiceDate    541909 non-null object\n",
      "UnitPrice      541909 non-null float64\n",
      "CustomerID     406829 non-null object\n",
      "Country        541909 non-null object\n",
      "dtypes: float64(1), int64(1), object(6)\n",
      "memory usage: 33.1+ MB\n"
     ]
    }
   ],
   "source": [
    "df_raw.info()"
   ]
  },
  {
   "cell_type": "code",
   "execution_count": 4,
   "metadata": {},
   "outputs": [],
   "source": [
    "#Change dtype of InvoiceDate to datetime and drop the time\n",
    "df_raw['InvoiceDate'] = pd.DatetimeIndex(df_raw['InvoiceDate']).date"
   ]
  },
  {
   "cell_type": "code",
   "execution_count": 5,
   "metadata": {},
   "outputs": [
    {
     "data": {
      "text/plain": [
       "(541909, 8)"
      ]
     },
     "execution_count": 5,
     "metadata": {},
     "output_type": "execute_result"
    }
   ],
   "source": [
    "df_raw.shape"
   ]
  },
  {
   "cell_type": "markdown",
   "metadata": {},
   "source": [
    "The raw dataset contains 541,909 rows of data. However, some of these rows are likely unusable due to missing data. First, we know we cannot use any rows with a missing 'CustomerID', as we do not know which customer made those purchases. Therefore, I begin by removing all rows without a 'CustomerID' from the dataset."
   ]
  },
  {
   "cell_type": "code",
   "execution_count": 6,
   "metadata": {},
   "outputs": [
    {
     "data": {
      "text/plain": [
       "(406829, 8)"
      ]
     },
     "execution_count": 6,
     "metadata": {},
     "output_type": "execute_result"
    }
   ],
   "source": [
    "df_raw.dropna(axis = 0, subset = ['CustomerID'], inplace = True)\n",
    "df_raw.shape"
   ]
  },
  {
   "cell_type": "markdown",
   "metadata": {},
   "source": [
    "After dropping these rows, we are left with 406,829 observations. This means that 135,080 rows had a missing 'CustomerID'. In addition to dropping these rows, we also want to drop any duplicate rows. If two rows have the exact same values for every attribute, we can assume it is due to the transaction accidentally being entered into the dataset twice (since there is a 'Quantity' attribute, we know that duplicate rows do NOT just indicate that a customer purchased multiple of the same item)."
   ]
  },
  {
   "cell_type": "code",
   "execution_count": 7,
   "metadata": {},
   "outputs": [
    {
     "data": {
      "text/plain": [
       "(401603, 8)"
      ]
     },
     "execution_count": 7,
     "metadata": {},
     "output_type": "execute_result"
    }
   ],
   "source": [
    "df_raw.drop_duplicates(inplace = True)\n",
    "df_raw.shape"
   ]
  },
  {
   "cell_type": "markdown",
   "metadata": {},
   "source": [
    "After dropping these rows, we are left with 401,604 observations. This means that 5,225 remaining rows were duplicates. Now, I decide to remove the cancelled orders from the dataset as we cannot rely on them to classify customers. Upon examination of the dataset, we see that cancelled orders have a negative quantity. Therefore I only select rows where the quantity is greater than 0."
   ]
  },
  {
   "cell_type": "code",
   "execution_count": 8,
   "metadata": {},
   "outputs": [],
   "source": [
    "df_raw = df_raw[df_raw['Quantity'] > 0]"
   ]
  },
  {
   "cell_type": "code",
   "execution_count": 9,
   "metadata": {},
   "outputs": [],
   "source": [
    "df_clean = df_raw"
   ]
  },
  {
   "cell_type": "markdown",
   "metadata": {},
   "source": [
    "#### Exploratory Analysis"
   ]
  },
  {
   "cell_type": "markdown",
   "metadata": {},
   "source": [
    "As the company is based in the UK, it is hypothesized that the large majority of the customers are located in the UK. That hypothesis is tested below:"
   ]
  },
  {
   "cell_type": "code",
   "execution_count": 10,
   "metadata": {},
   "outputs": [
    {
     "name": "stdout",
     "output_type": "stream",
     "text": [
      "United Kingdom          16649\n",
      "Germany                   457\n",
      "France                    389\n",
      "EIRE                      260\n",
      "Belgium                    98\n",
      "Netherlands                95\n",
      "Spain                      90\n",
      "Australia                  57\n",
      "Portugal                   57\n",
      "Switzerland                51\n",
      "Finland                    41\n",
      "Italy                      38\n",
      "Norway                     36\n",
      "Sweden                     36\n",
      "Channel Islands            26\n",
      "Poland                     19\n",
      "Japan                      19\n",
      "Denmark                    18\n",
      "Austria                    17\n",
      "Cyprus                     16\n",
      "Unspecified                 8\n",
      "Iceland                     7\n",
      "Singapore                   7\n",
      "Canada                      6\n",
      "Greece                      5\n",
      "Israel                      5\n",
      "Malta                       5\n",
      "USA                         5\n",
      "European Community          4\n",
      "Lithuania                   4\n",
      "United Arab Emirates        3\n",
      "Czech Republic              2\n",
      "Bahrain                     2\n",
      "Lebanon                     1\n",
      "Saudi Arabia                1\n",
      "RSA                         1\n",
      "Brazil                      1\n",
      "Name: Country, dtype: int64\n"
     ]
    }
   ],
   "source": [
    "customers_per_country = df_clean[['CustomerID', 'InvoiceNo', 'Country']].groupby(['CustomerID', \\\n",
    "                'InvoiceNo', 'Country']).count().reset_index(drop = False)\n",
    "countries = customers_per_country['Country'].value_counts()\n",
    "print(countries)"
   ]
  },
  {
   "cell_type": "code",
   "execution_count": 11,
   "metadata": {},
   "outputs": [
    {
     "name": "stdout",
     "output_type": "stream",
     "text": [
      "United Kingdom : 89.82%\n",
      "Germany : 2.47%\n",
      "France : 2.10%\n",
      "EIRE : 1.40%\n",
      "Belgium : 0.53%\n",
      "Netherlands : 0.51%\n",
      "Spain : 0.49%\n",
      "Australia : 0.31%\n",
      "Portugal : 0.31%\n",
      "Switzerland : 0.28%\n",
      "Finland : 0.22%\n",
      "Italy : 0.21%\n",
      "Norway : 0.19%\n",
      "Sweden : 0.19%\n",
      "Channel Islands : 0.14%\n",
      "Poland : 0.10%\n",
      "Japan : 0.10%\n",
      "Denmark : 0.10%\n",
      "Austria : 0.09%\n",
      "Cyprus : 0.09%\n",
      "Unspecified : 0.04%\n",
      "Iceland : 0.04%\n",
      "Singapore : 0.04%\n",
      "Canada : 0.03%\n",
      "Greece : 0.03%\n",
      "Israel : 0.03%\n",
      "Malta : 0.03%\n",
      "USA : 0.03%\n",
      "European Community : 0.02%\n",
      "Lithuania : 0.02%\n",
      "United Arab Emirates : 0.02%\n",
      "Czech Republic : 0.01%\n",
      "Bahrain : 0.01%\n",
      "Lebanon : 0.01%\n",
      "Saudi Arabia : 0.01%\n",
      "RSA : 0.01%\n",
      "Brazil : 0.01%\n"
     ]
    }
   ],
   "source": [
    "for i in range(len(countries)):\n",
    "    print(countries.index[i],': {:.2f}%'.format(countries[i]/countries.sum()*100))"
   ]
  },
  {
   "cell_type": "markdown",
   "metadata": {},
   "source": [
    "89.82% of all customers are from the United Kingdom. The remaining 10.18% of customers are spread among 36 other countries/territories. Because the percentage of customers for each country other than the UK is so low, I decided to remove international customers from the data and instead focus on segmenting the domestic customers."
   ]
  },
  {
   "cell_type": "code",
   "execution_count": 12,
   "metadata": {},
   "outputs": [
    {
     "data": {
      "text/plain": [
       "(349226, 8)"
      ]
     },
     "execution_count": 12,
     "metadata": {},
     "output_type": "execute_result"
    }
   ],
   "source": [
    "df_clean = df_clean[df_clean['Country']=='United Kingdom']\n",
    "df_clean.shape"
   ]
  },
  {
   "cell_type": "code",
   "execution_count": 13,
   "metadata": {},
   "outputs": [
    {
     "name": "stdout",
     "output_type": "stream",
     "text": [
      "Time of Data Collection: 2010-12-01 to 2011-12-09\n"
     ]
    }
   ],
   "source": [
    "#Find range of dates\n",
    "first_order = df_clean['InvoiceDate'].min()\n",
    "last_order = df_clean['InvoiceDate'].max()\n",
    "print('Time of Data Collection:', first_order, 'to', last_order)"
   ]
  },
  {
   "cell_type": "markdown",
   "metadata": {},
   "source": [
    "#### Feature Engineering\n",
    "The attributes in the dataset do not explicitly allow us to perform an RFM analysis. However, the dataset contains enough information to figure out a customer's most recent purchase, frequency of purchase, and monetary value of each purchase. These values will be found for each customer and then a dataframe will be created containing these values.\n",
    "\n",
    "First, a column containing the most recent purchase date for each customer is created:"
   ]
  },
  {
   "cell_type": "code",
   "execution_count": 14,
   "metadata": {},
   "outputs": [
    {
     "data": {
      "text/html": [
       "<div>\n",
       "<style scoped>\n",
       "    .dataframe tbody tr th:only-of-type {\n",
       "        vertical-align: middle;\n",
       "    }\n",
       "\n",
       "    .dataframe tbody tr th {\n",
       "        vertical-align: top;\n",
       "    }\n",
       "\n",
       "    .dataframe thead th {\n",
       "        text-align: right;\n",
       "    }\n",
       "</style>\n",
       "<table border=\"1\" class=\"dataframe\">\n",
       "  <thead>\n",
       "    <tr style=\"text-align: right;\">\n",
       "      <th></th>\n",
       "      <th>CustomerID</th>\n",
       "      <th>Most Recent Purchase Date</th>\n",
       "    </tr>\n",
       "  </thead>\n",
       "  <tbody>\n",
       "    <tr>\n",
       "      <td>0</td>\n",
       "      <td>12346</td>\n",
       "      <td>2011-01-18</td>\n",
       "    </tr>\n",
       "    <tr>\n",
       "      <td>1</td>\n",
       "      <td>12747</td>\n",
       "      <td>2011-12-07</td>\n",
       "    </tr>\n",
       "    <tr>\n",
       "      <td>2</td>\n",
       "      <td>12748</td>\n",
       "      <td>2011-12-09</td>\n",
       "    </tr>\n",
       "    <tr>\n",
       "      <td>3</td>\n",
       "      <td>12749</td>\n",
       "      <td>2011-12-06</td>\n",
       "    </tr>\n",
       "    <tr>\n",
       "      <td>4</td>\n",
       "      <td>12820</td>\n",
       "      <td>2011-12-06</td>\n",
       "    </tr>\n",
       "  </tbody>\n",
       "</table>\n",
       "</div>"
      ],
      "text/plain": [
       "  CustomerID Most Recent Purchase Date\n",
       "0      12346                2011-01-18\n",
       "1      12747                2011-12-07\n",
       "2      12748                2011-12-09\n",
       "3      12749                2011-12-06\n",
       "4      12820                2011-12-06"
      ]
     },
     "execution_count": 14,
     "metadata": {},
     "output_type": "execute_result"
    }
   ],
   "source": [
    "most_recent_purchase_df = df_clean.groupby(by='CustomerID', as_index=False)['InvoiceDate'].max()\n",
    "most_recent_purchase_df.columns = ['CustomerID','Most Recent Purchase Date']\n",
    "most_recent_purchase_df.head()"
   ]
  },
  {
   "cell_type": "markdown",
   "metadata": {},
   "source": [
    "However, this column alone is not enough to determine recency. We must find the difference between this date and the current date. I will assume that the current date is the last date that data is recorded, which I have previously named \"last_order\". My subtracting the most recent purchase date of a customer by \"last order\", we find the number of days since the customer's last purchase."
   ]
  },
  {
   "cell_type": "code",
   "execution_count": 15,
   "metadata": {},
   "outputs": [],
   "source": [
    "most_recent_purchase_df['Recency'] = most_recent_purchase_df['Most Recent \\\n",
    "Purchase Date'].apply(lambda date_of_purchase: (last_order - date_of_purchase).days)"
   ]
  },
  {
   "cell_type": "code",
   "execution_count": 16,
   "metadata": {},
   "outputs": [
    {
     "data": {
      "text/html": [
       "<div>\n",
       "<style scoped>\n",
       "    .dataframe tbody tr th:only-of-type {\n",
       "        vertical-align: middle;\n",
       "    }\n",
       "\n",
       "    .dataframe tbody tr th {\n",
       "        vertical-align: top;\n",
       "    }\n",
       "\n",
       "    .dataframe thead th {\n",
       "        text-align: right;\n",
       "    }\n",
       "</style>\n",
       "<table border=\"1\" class=\"dataframe\">\n",
       "  <thead>\n",
       "    <tr style=\"text-align: right;\">\n",
       "      <th></th>\n",
       "      <th>CustomerID</th>\n",
       "      <th>Most Recent Purchase Date</th>\n",
       "      <th>Recency</th>\n",
       "    </tr>\n",
       "  </thead>\n",
       "  <tbody>\n",
       "    <tr>\n",
       "      <td>0</td>\n",
       "      <td>12346</td>\n",
       "      <td>2011-01-18</td>\n",
       "      <td>325</td>\n",
       "    </tr>\n",
       "    <tr>\n",
       "      <td>1</td>\n",
       "      <td>12747</td>\n",
       "      <td>2011-12-07</td>\n",
       "      <td>2</td>\n",
       "    </tr>\n",
       "    <tr>\n",
       "      <td>2</td>\n",
       "      <td>12748</td>\n",
       "      <td>2011-12-09</td>\n",
       "      <td>0</td>\n",
       "    </tr>\n",
       "    <tr>\n",
       "      <td>3</td>\n",
       "      <td>12749</td>\n",
       "      <td>2011-12-06</td>\n",
       "      <td>3</td>\n",
       "    </tr>\n",
       "    <tr>\n",
       "      <td>4</td>\n",
       "      <td>12820</td>\n",
       "      <td>2011-12-06</td>\n",
       "      <td>3</td>\n",
       "    </tr>\n",
       "  </tbody>\n",
       "</table>\n",
       "</div>"
      ],
      "text/plain": [
       "  CustomerID Most Recent Purchase Date  Recency\n",
       "0      12346                2011-01-18      325\n",
       "1      12747                2011-12-07        2\n",
       "2      12748                2011-12-09        0\n",
       "3      12749                2011-12-06        3\n",
       "4      12820                2011-12-06        3"
      ]
     },
     "execution_count": 16,
     "metadata": {},
     "output_type": "execute_result"
    }
   ],
   "source": [
    "most_recent_purchase_df.head()"
   ]
  },
  {
   "cell_type": "markdown",
   "metadata": {},
   "source": [
    "Next, we need a column that contains the frequency that customers make purchases. This value will be found by counting the total number of invoices for each customer. Since each invoice is broken down into multiple rows, we cannot simply count the number of transactions per customer. Instead, I will create a dataframe that contains only unique invoice numbers so that it is easier to find the total number of invoices for each customer."
   ]
  },
  {
   "cell_type": "code",
   "execution_count": 17,
   "metadata": {},
   "outputs": [
    {
     "data": {
      "text/html": [
       "<div>\n",
       "<style scoped>\n",
       "    .dataframe tbody tr th:only-of-type {\n",
       "        vertical-align: middle;\n",
       "    }\n",
       "\n",
       "    .dataframe tbody tr th {\n",
       "        vertical-align: top;\n",
       "    }\n",
       "\n",
       "    .dataframe thead th {\n",
       "        text-align: right;\n",
       "    }\n",
       "</style>\n",
       "<table border=\"1\" class=\"dataframe\">\n",
       "  <thead>\n",
       "    <tr style=\"text-align: right;\">\n",
       "      <th></th>\n",
       "      <th>CustomerID</th>\n",
       "      <th>Frequency</th>\n",
       "    </tr>\n",
       "  </thead>\n",
       "  <tbody>\n",
       "    <tr>\n",
       "      <td>0</td>\n",
       "      <td>12346</td>\n",
       "      <td>1</td>\n",
       "    </tr>\n",
       "    <tr>\n",
       "      <td>1</td>\n",
       "      <td>12747</td>\n",
       "      <td>11</td>\n",
       "    </tr>\n",
       "    <tr>\n",
       "      <td>2</td>\n",
       "      <td>12748</td>\n",
       "      <td>210</td>\n",
       "    </tr>\n",
       "    <tr>\n",
       "      <td>3</td>\n",
       "      <td>12749</td>\n",
       "      <td>5</td>\n",
       "    </tr>\n",
       "    <tr>\n",
       "      <td>4</td>\n",
       "      <td>12820</td>\n",
       "      <td>4</td>\n",
       "    </tr>\n",
       "  </tbody>\n",
       "</table>\n",
       "</div>"
      ],
      "text/plain": [
       "  CustomerID  Frequency\n",
       "0      12346          1\n",
       "1      12747         11\n",
       "2      12748        210\n",
       "3      12749          5\n",
       "4      12820          4"
      ]
     },
     "execution_count": 17,
     "metadata": {},
     "output_type": "execute_result"
    }
   ],
   "source": [
    "#Create a dataframe with only one row per invoice\n",
    "df_clean_copy = df_clean\n",
    "df_clean_copy.drop_duplicates(subset=['InvoiceNo', 'CustomerID'], keep=\"first\", inplace=True)\n",
    "#Create a dataframe with a column containing number of invoices per customer\n",
    "number_of_orders_per_customer_df = df_clean_copy.groupby(by=['CustomerID'], as_index=False)['InvoiceNo'].count()\n",
    "number_of_orders_per_customer_df.columns = ['CustomerID','Frequency']\n",
    "number_of_orders_per_customer_df.head()"
   ]
  },
  {
   "cell_type": "markdown",
   "metadata": {},
   "source": [
    "Lastly, we need a column that contains the monetary value of each order per customer. For this value, I first create a new column on our main dataframe for the total cost of each transaction (quantity times unit cost)."
   ]
  },
  {
   "cell_type": "code",
   "execution_count": 18,
   "metadata": {},
   "outputs": [],
   "source": [
    "df_clean['TotalCost'] = df_clean['Quantity'] * df_clean['UnitPrice']"
   ]
  },
  {
   "cell_type": "code",
   "execution_count": 19,
   "metadata": {},
   "outputs": [
    {
     "data": {
      "text/html": [
       "<div>\n",
       "<style scoped>\n",
       "    .dataframe tbody tr th:only-of-type {\n",
       "        vertical-align: middle;\n",
       "    }\n",
       "\n",
       "    .dataframe tbody tr th {\n",
       "        vertical-align: top;\n",
       "    }\n",
       "\n",
       "    .dataframe thead th {\n",
       "        text-align: right;\n",
       "    }\n",
       "</style>\n",
       "<table border=\"1\" class=\"dataframe\">\n",
       "  <thead>\n",
       "    <tr style=\"text-align: right;\">\n",
       "      <th></th>\n",
       "      <th>CustomerID</th>\n",
       "      <th>Money Spent per Customer</th>\n",
       "    </tr>\n",
       "  </thead>\n",
       "  <tbody>\n",
       "    <tr>\n",
       "      <td>0</td>\n",
       "      <td>12346</td>\n",
       "      <td>77183.60</td>\n",
       "    </tr>\n",
       "    <tr>\n",
       "      <td>1</td>\n",
       "      <td>12747</td>\n",
       "      <td>689.49</td>\n",
       "    </tr>\n",
       "    <tr>\n",
       "      <td>2</td>\n",
       "      <td>12748</td>\n",
       "      <td>3841.31</td>\n",
       "    </tr>\n",
       "    <tr>\n",
       "      <td>3</td>\n",
       "      <td>12749</td>\n",
       "      <td>98.35</td>\n",
       "    </tr>\n",
       "    <tr>\n",
       "      <td>4</td>\n",
       "      <td>12820</td>\n",
       "      <td>58.20</td>\n",
       "    </tr>\n",
       "  </tbody>\n",
       "</table>\n",
       "</div>"
      ],
      "text/plain": [
       "  CustomerID  Money Spent per Customer\n",
       "0      12346                  77183.60\n",
       "1      12747                    689.49\n",
       "2      12748                   3841.31\n",
       "3      12749                     98.35\n",
       "4      12820                     58.20"
      ]
     },
     "execution_count": 19,
     "metadata": {},
     "output_type": "execute_result"
    }
   ],
   "source": [
    "money_spent_per_customer_df = df_clean.groupby(by='CustomerID',as_index=False).agg({'TotalCost': 'sum'})\n",
    "money_spent_per_customer_df.columns = ['CustomerID','Money Spent per Customer']\n",
    "money_spent_per_customer_df.head()"
   ]
  },
  {
   "cell_type": "markdown",
   "metadata": {},
   "source": [
    "Now we have an attribute for defining recency, defining frequency, and defining monetary value. These three attributes are put into a new dataframe with each customer as one observation. This will be the dataframe used in the model building."
   ]
  },
  {
   "cell_type": "code",
   "execution_count": 20,
   "metadata": {},
   "outputs": [],
   "source": [
    "#Import each column into a new dataframe\n",
    "RFM_DataFrame = pd.DataFrame(columns = ['CustomerID', 'Recency', 'Frequency', 'Monetary Value'])\n",
    "RFM_DataFrame['CustomerID'] = most_recent_purchase_df['CustomerID']\n",
    "RFM_DataFrame['Recency'] = most_recent_purchase_df['Recency']\n",
    "RFM_DataFrame['Frequency'] = number_of_orders_per_customer_df['Frequency']\n",
    "RFM_DataFrame['Monetary Value'] = money_spent_per_customer_df['Money Spent per Customer']\n",
    "\n",
    "#Check that the CustomerID Column from each three dataframes were in same order\n",
    "for i in range(len(RFM_DataFrame['CustomerID'])):\n",
    "    \n",
    "    x = RFM_DataFrame['CustomerID'][0] == number_of_orders_per_customer_df['CustomerID'][0]\n",
    "    y = RFM_DataFrame['CustomerID'][0] == most_recent_purchase_df['CustomerID'][0]\n",
    "    z = RFM_DataFrame['CustomerID'][0] == money_spent_per_customer_df['CustomerID'][0]\n",
    "    if x != True or y != True or z != True:\n",
    "        print('CustomerID Columns are not the same.')"
   ]
  },
  {
   "cell_type": "markdown",
   "metadata": {},
   "source": [
    "Basic exploratory analysis is now performed on the new dataframe to ensure all of the values are the correct datatype and to look at the distribution of the data."
   ]
  },
  {
   "cell_type": "code",
   "execution_count": 21,
   "metadata": {},
   "outputs": [
    {
     "data": {
      "text/html": [
       "<div>\n",
       "<style scoped>\n",
       "    .dataframe tbody tr th:only-of-type {\n",
       "        vertical-align: middle;\n",
       "    }\n",
       "\n",
       "    .dataframe tbody tr th {\n",
       "        vertical-align: top;\n",
       "    }\n",
       "\n",
       "    .dataframe thead th {\n",
       "        text-align: right;\n",
       "    }\n",
       "</style>\n",
       "<table border=\"1\" class=\"dataframe\">\n",
       "  <thead>\n",
       "    <tr style=\"text-align: right;\">\n",
       "      <th></th>\n",
       "      <th>CustomerID</th>\n",
       "      <th>Recency</th>\n",
       "      <th>Frequency</th>\n",
       "      <th>Monetary Value</th>\n",
       "    </tr>\n",
       "  </thead>\n",
       "  <tbody>\n",
       "    <tr>\n",
       "      <td>0</td>\n",
       "      <td>12346</td>\n",
       "      <td>325</td>\n",
       "      <td>1</td>\n",
       "      <td>77183.60</td>\n",
       "    </tr>\n",
       "    <tr>\n",
       "      <td>1</td>\n",
       "      <td>12747</td>\n",
       "      <td>2</td>\n",
       "      <td>11</td>\n",
       "      <td>689.49</td>\n",
       "    </tr>\n",
       "    <tr>\n",
       "      <td>2</td>\n",
       "      <td>12748</td>\n",
       "      <td>0</td>\n",
       "      <td>210</td>\n",
       "      <td>3841.31</td>\n",
       "    </tr>\n",
       "    <tr>\n",
       "      <td>3</td>\n",
       "      <td>12749</td>\n",
       "      <td>3</td>\n",
       "      <td>5</td>\n",
       "      <td>98.35</td>\n",
       "    </tr>\n",
       "    <tr>\n",
       "      <td>4</td>\n",
       "      <td>12820</td>\n",
       "      <td>3</td>\n",
       "      <td>4</td>\n",
       "      <td>58.20</td>\n",
       "    </tr>\n",
       "  </tbody>\n",
       "</table>\n",
       "</div>"
      ],
      "text/plain": [
       "  CustomerID  Recency  Frequency  Monetary Value\n",
       "0      12346      325          1        77183.60\n",
       "1      12747        2         11          689.49\n",
       "2      12748        0        210         3841.31\n",
       "3      12749        3          5           98.35\n",
       "4      12820        3          4           58.20"
      ]
     },
     "execution_count": 21,
     "metadata": {},
     "output_type": "execute_result"
    }
   ],
   "source": [
    "RFM_DataFrame.head()"
   ]
  },
  {
   "cell_type": "code",
   "execution_count": 22,
   "metadata": {},
   "outputs": [
    {
     "data": {
      "text/plain": [
       "(3921, 4)"
      ]
     },
     "execution_count": 22,
     "metadata": {},
     "output_type": "execute_result"
    }
   ],
   "source": [
    "RFM_DataFrame.shape"
   ]
  },
  {
   "cell_type": "code",
   "execution_count": 23,
   "metadata": {},
   "outputs": [
    {
     "name": "stdout",
     "output_type": "stream",
     "text": [
      "<class 'pandas.core.frame.DataFrame'>\n",
      "Int64Index: 3921 entries, 0 to 3920\n",
      "Data columns (total 4 columns):\n",
      "CustomerID        3921 non-null object\n",
      "Recency           3921 non-null int64\n",
      "Frequency         3921 non-null int64\n",
      "Monetary Value    3921 non-null float64\n",
      "dtypes: float64(1), int64(2), object(1)\n",
      "memory usage: 313.2+ KB\n"
     ]
    }
   ],
   "source": [
    "RFM_DataFrame.info()"
   ]
  },
  {
   "cell_type": "code",
   "execution_count": 24,
   "metadata": {},
   "outputs": [
    {
     "data": {
      "text/html": [
       "<div>\n",
       "<style scoped>\n",
       "    .dataframe tbody tr th:only-of-type {\n",
       "        vertical-align: middle;\n",
       "    }\n",
       "\n",
       "    .dataframe tbody tr th {\n",
       "        vertical-align: top;\n",
       "    }\n",
       "\n",
       "    .dataframe thead th {\n",
       "        text-align: right;\n",
       "    }\n",
       "</style>\n",
       "<table border=\"1\" class=\"dataframe\">\n",
       "  <thead>\n",
       "    <tr style=\"text-align: right;\">\n",
       "      <th></th>\n",
       "      <th>Recency</th>\n",
       "      <th>Frequency</th>\n",
       "      <th>Monetary Value</th>\n",
       "    </tr>\n",
       "  </thead>\n",
       "  <tbody>\n",
       "    <tr>\n",
       "      <td>count</td>\n",
       "      <td>3921.000000</td>\n",
       "      <td>3921.000000</td>\n",
       "      <td>3921.000000</td>\n",
       "    </tr>\n",
       "    <tr>\n",
       "      <td>mean</td>\n",
       "      <td>91.722265</td>\n",
       "      <td>4.246111</td>\n",
       "      <td>293.299913</td>\n",
       "    </tr>\n",
       "    <tr>\n",
       "      <td>std</td>\n",
       "      <td>99.528532</td>\n",
       "      <td>7.205750</td>\n",
       "      <td>3261.756525</td>\n",
       "    </tr>\n",
       "    <tr>\n",
       "      <td>min</td>\n",
       "      <td>0.000000</td>\n",
       "      <td>1.000000</td>\n",
       "      <td>0.000000</td>\n",
       "    </tr>\n",
       "    <tr>\n",
       "      <td>25%</td>\n",
       "      <td>17.000000</td>\n",
       "      <td>1.000000</td>\n",
       "      <td>17.700000</td>\n",
       "    </tr>\n",
       "    <tr>\n",
       "      <td>50%</td>\n",
       "      <td>50.000000</td>\n",
       "      <td>2.000000</td>\n",
       "      <td>45.400000</td>\n",
       "    </tr>\n",
       "    <tr>\n",
       "      <td>75%</td>\n",
       "      <td>142.000000</td>\n",
       "      <td>5.000000</td>\n",
       "      <td>124.500000</td>\n",
       "    </tr>\n",
       "    <tr>\n",
       "      <td>max</td>\n",
       "      <td>373.000000</td>\n",
       "      <td>210.000000</td>\n",
       "      <td>168471.250000</td>\n",
       "    </tr>\n",
       "  </tbody>\n",
       "</table>\n",
       "</div>"
      ],
      "text/plain": [
       "           Recency    Frequency  Monetary Value\n",
       "count  3921.000000  3921.000000     3921.000000\n",
       "mean     91.722265     4.246111      293.299913\n",
       "std      99.528532     7.205750     3261.756525\n",
       "min       0.000000     1.000000        0.000000\n",
       "25%      17.000000     1.000000       17.700000\n",
       "50%      50.000000     2.000000       45.400000\n",
       "75%     142.000000     5.000000      124.500000\n",
       "max     373.000000   210.000000   168471.250000"
      ]
     },
     "execution_count": 24,
     "metadata": {},
     "output_type": "execute_result"
    }
   ],
   "source": [
    "RFM_DataFrame.describe()"
   ]
  },
  {
   "cell_type": "markdown",
   "metadata": {},
   "source": [
    "From the table above, the mean amount of time since a customer's most recent purchase is 92 days. The median amount of time is 50 days, so it is clear that the 'Recency' values are not symetrically distributed. 25% of customers haven't placed an order in at least 142 days, and one customer hasn't placed an order in 373 days.\n",
    "\n",
    "The mean number of orders per customer is about 4. The median customer placed 2 orders, and at least 25% of customers have only made 1 order. The top 25% made at least 5 orders, with one superstar customer making a whopping 210 orders.\n",
    "\n",
    "The mean amount of money spent per customer is 293 sterling, with the median customer spending 45 sterling. This data is highly dispersed, as the coefficient of variation (standard deviation/mean) is over 11. The highest-spending customer spent 168,471 sterling."
   ]
  },
  {
   "cell_type": "markdown",
   "metadata": {},
   "source": [
    "When building a model using the RFM DataFrame above, the clusters created are extremely disproportionate. Regardless of the value of k, the KMeans algorithm would result in over 90% of the customers being placed in one cluster. This analysis is futile for a marketing team, as it fails to segment the bulk of the customers into meaningful clusters. This extreme unevenness in cluster size is caused by extreme outliers in the data. One solution to creating better segmentations is to eliminate the outliers from the data. This method has a large downside, however, as eliminating customers from the dataset means we fail to classify them for our marketing team. The alternative solution is to transform the columns we have into a grading scale. For each of the three RFM features, a customer can be graded for how \"well\" they perform. For example, a customer who shops with very high frequency should receive an 'A' grade for frequency, and customers with very low frequency receive closer to an 'F'. In this case, I decided to determine grade based on the quartile a customer is in. The grading scale is 1-4, with 1 being the worst and 4 being the best. For example, the 75% percentile and above for 'Monetary Value' receive a grade of a 4 for monetary value."
   ]
  },
  {
   "cell_type": "code",
   "execution_count": 25,
   "metadata": {},
   "outputs": [
    {
     "data": {
      "text/html": [
       "<div>\n",
       "<style scoped>\n",
       "    .dataframe tbody tr th:only-of-type {\n",
       "        vertical-align: middle;\n",
       "    }\n",
       "\n",
       "    .dataframe tbody tr th {\n",
       "        vertical-align: top;\n",
       "    }\n",
       "\n",
       "    .dataframe thead th {\n",
       "        text-align: right;\n",
       "    }\n",
       "</style>\n",
       "<table border=\"1\" class=\"dataframe\">\n",
       "  <thead>\n",
       "    <tr style=\"text-align: right;\">\n",
       "      <th></th>\n",
       "      <th>CustomerID</th>\n",
       "      <th>Recency Grade</th>\n",
       "      <th>Frequency Grade</th>\n",
       "      <th>Monetary Value Grade</th>\n",
       "    </tr>\n",
       "  </thead>\n",
       "  <tbody>\n",
       "    <tr>\n",
       "      <td>0</td>\n",
       "      <td>12346</td>\n",
       "      <td>1</td>\n",
       "      <td>2</td>\n",
       "      <td>4</td>\n",
       "    </tr>\n",
       "    <tr>\n",
       "      <td>1</td>\n",
       "      <td>12747</td>\n",
       "      <td>4</td>\n",
       "      <td>4</td>\n",
       "      <td>4</td>\n",
       "    </tr>\n",
       "    <tr>\n",
       "      <td>2</td>\n",
       "      <td>12748</td>\n",
       "      <td>4</td>\n",
       "      <td>4</td>\n",
       "      <td>4</td>\n",
       "    </tr>\n",
       "    <tr>\n",
       "      <td>3</td>\n",
       "      <td>12749</td>\n",
       "      <td>4</td>\n",
       "      <td>4</td>\n",
       "      <td>3</td>\n",
       "    </tr>\n",
       "    <tr>\n",
       "      <td>4</td>\n",
       "      <td>12820</td>\n",
       "      <td>4</td>\n",
       "      <td>3</td>\n",
       "      <td>3</td>\n",
       "    </tr>\n",
       "  </tbody>\n",
       "</table>\n",
       "</div>"
      ],
      "text/plain": [
       "  CustomerID Recency Grade Frequency Grade Monetary Value Grade\n",
       "0      12346             1               2                    4\n",
       "1      12747             4               4                    4\n",
       "2      12748             4               4                    4\n",
       "3      12749             4               4                    3\n",
       "4      12820             4               3                    3"
      ]
     },
     "execution_count": 25,
     "metadata": {},
     "output_type": "execute_result"
    }
   ],
   "source": [
    "RFM_DataFrame_Grades = pd.DataFrame(columns = ['CustomerID', 'Recency Grade', 'Frequency Grade', 'Monetary Value Grade'])\n",
    "RFM_DataFrame_Grades['CustomerID'] = RFM_DataFrame['CustomerID']\n",
    "\n",
    "for i in range(len(RFM_DataFrame['CustomerID'])):  \n",
    "    if RFM_DataFrame['Recency'][i] >= 142:\n",
    "        RFM_DataFrame_Grades['Recency Grade'][i] = 1\n",
    "    elif RFM_DataFrame['Recency'][i] >= 50:\n",
    "        RFM_DataFrame_Grades['Recency Grade'][i] = 2\n",
    "    elif RFM_DataFrame['Recency'][i] >= 17:\n",
    "        RFM_DataFrame_Grades['Recency Grade'][i] = 3\n",
    "    else:\n",
    "        RFM_DataFrame_Grades['Recency Grade'][i] = 4\n",
    "    \n",
    "    if RFM_DataFrame['Frequency'][i] >= 5:\n",
    "        RFM_DataFrame_Grades['Frequency Grade'][i] = 4\n",
    "    elif RFM_DataFrame['Frequency'][i] >= 2:\n",
    "        RFM_DataFrame_Grades['Frequency Grade'][i] = 3\n",
    "    elif RFM_DataFrame['Frequency'][i] >= 1:\n",
    "        RFM_DataFrame_Grades['Frequency Grade'][i] = 2\n",
    "    else:\n",
    "        RFM_DataFrame_Grades['Frequency Grade'][i] = 1\n",
    "\n",
    "    if RFM_DataFrame['Monetary Value'][i] >= 124.50:\n",
    "        RFM_DataFrame_Grades['Monetary Value Grade'][i] = 4\n",
    "    elif RFM_DataFrame['Monetary Value'][i] >= 45.40:\n",
    "        RFM_DataFrame_Grades['Monetary Value Grade'][i] = 3\n",
    "    elif RFM_DataFrame['Monetary Value'][i] >= 17.70:\n",
    "        RFM_DataFrame_Grades['Monetary Value Grade'][i] = 2\n",
    "    else:\n",
    "        RFM_DataFrame_Grades['Monetary Value Grade'][i] = 1\n",
    "        \n",
    "RFM_DataFrame_Grades.head()"
   ]
  },
  {
   "cell_type": "markdown",
   "metadata": {},
   "source": [
    "A customer with a [4, 4, 4] grade would be considered one of our best customers, as he or she shops very frequenty, has made a very recent purchase, and spends a large amount of money at our store."
   ]
  },
  {
   "cell_type": "markdown",
   "metadata": {},
   "source": [
    "## Building and Evaluating the Model"
   ]
  },
  {
   "cell_type": "markdown",
   "metadata": {},
   "source": [
    "For this segmentation, I decided to use a KMeans algorithm. To help determine the best number of clusters to use in the model, the Elbow Curve is graphed and examined."
   ]
  },
  {
   "cell_type": "code",
   "execution_count": 26,
   "metadata": {},
   "outputs": [
    {
     "data": {
      "image/png": "[encoded data removed]",
      "text/plain": [
       "<Figure size 432x288 with 1 Axes>"
      ]
     },
     "metadata": {
      "needs_background": "light"
     },
     "output_type": "display_data"
    }
   ],
   "source": [
    "from sklearn.cluster import KMeans\n",
    "\n",
    "X = RFM_DataFrame_Grades[['Recency Grade', 'Frequency Grade', 'Monetary Value Grade']]\n",
    "number_of_clusters = range(1, 20)\n",
    "kmeans = [KMeans(n_clusters=i) for i in number_of_clusters]\n",
    "score = [kmeans[i].fit(X).score(X) for i in range(len(kmeans))]\n",
    "plt.plot(number_of_clusters,score)\n",
    "plt.xlabel('Number of Clusters')\n",
    "plt.ylabel('Score')\n",
    "plt.title('Elbow Curve')\n",
    "plt.locator_params(nbins=20)\n",
    "plt.show()"
   ]
  },
  {
   "cell_type": "markdown",
   "metadata": {},
   "source": [
    "Upon examination of the graph, it appears that 4 may be the optimal number of clusters for this dataset. It is not an obvious value, as the score does continue to increase fairly considerably as we add more clusters beyond 4. Another Elbow Curve is drawn below with a maximum number of clusters of 100."
   ]
  },
  {
   "cell_type": "code",
   "execution_count": 27,
   "metadata": {},
   "outputs": [
    {
     "data": {
      "image/png": "[encoded data removed]",
      "text/plain": [
       "<Figure size 432x288 with 1 Axes>"
      ]
     },
     "metadata": {
      "needs_background": "light"
     },
     "output_type": "display_data"
    }
   ],
   "source": [
    "number_of_clusters2 = range(1, 50)\n",
    "kmeans2 = [KMeans(n_clusters=i) for i in number_of_clusters2]\n",
    "score2 = [kmeans2[i].fit(X).score(X) for i in range(len(kmeans2))]\n",
    "plt.plot(number_of_clusters2,score2)\n",
    "plt.xlabel('Number of Clusters')\n",
    "plt.ylabel('Score')\n",
    "plt.title('Elbow Curve')\n",
    "plt.locator_params(nbins=20)\n",
    "plt.show()"
   ]
  },
  {
   "cell_type": "markdown",
   "metadata": {},
   "source": [
    "This graph also seems to show that the rate increase in score begins to slow significantly after we surpass 4 clusters. Therefore, a model with 4 clusters will be used to segment the data.\n",
    "\n",
    "However, an inuitive approach to the data may lead to a different conclusion. Since there are three features used in this model, and each feature has exactly four possible values, there are a total of 64 possible types of customers. Therefore, we know that 64 clusters will lead to a score of 0, and we will have a strong explicit definition for each cluster of customers. Therefore, a model with 64 clusters will also be constructed and evaluated. "
   ]
  },
  {
   "cell_type": "code",
   "execution_count": 28,
   "metadata": {},
   "outputs": [
    {
     "data": {
      "text/plain": [
       "array([[1.91961415, 2.98177921, 3.32690247],\n",
       "       [1.42329317, 2.30040161, 1.47389558],\n",
       "       [3.35055866, 2.66061453, 1.55865922],\n",
       "       [3.66699124, 3.76728335, 3.65141188]])"
      ]
     },
     "execution_count": 28,
     "metadata": {},
     "output_type": "execute_result"
    }
   ],
   "source": [
    "#KMeans model with 4 clusters\n",
    "kmeans_four_clusters = KMeans(n_clusters= 4, init='k-means++', random_state=0).fit(X)\n",
    "kmeans_four_clusters.labels_\n",
    "kmeans_four_clusters.cluster_centers_"
   ]
  },
  {
   "cell_type": "code",
   "execution_count": 29,
   "metadata": {},
   "outputs": [
    {
     "name": "stdout",
     "output_type": "stream",
     "text": [
      "(array([0, 1, 2, 3], dtype=int32), array([ 933, 1245,  716, 1027]))\n"
     ]
    }
   ],
   "source": [
    "#Placing each customer into a cluster\n",
    "predicted_clusters1 = kmeans_four_clusters.predict(X) # get clusters\n",
    "RFM_DataFrame_Grades[\"Cluster (4 clusters)\"] = predicted_clusters1\n",
    "print(np.unique(predicted_clusters1, return_counts=True))"
   ]
  },
  {
   "cell_type": "code",
   "execution_count": 30,
   "metadata": {},
   "outputs": [
    {
     "data": {
      "text/html": [
       "<div>\n",
       "<style scoped>\n",
       "    .dataframe tbody tr th:only-of-type {\n",
       "        vertical-align: middle;\n",
       "    }\n",
       "\n",
       "    .dataframe tbody tr th {\n",
       "        vertical-align: top;\n",
       "    }\n",
       "\n",
       "    .dataframe thead th {\n",
       "        text-align: right;\n",
       "    }\n",
       "</style>\n",
       "<table border=\"1\" class=\"dataframe\">\n",
       "  <thead>\n",
       "    <tr style=\"text-align: right;\">\n",
       "      <th></th>\n",
       "      <th>CustomerID</th>\n",
       "      <th>Recency Grade</th>\n",
       "      <th>Frequency Grade</th>\n",
       "      <th>Monetary Value Grade</th>\n",
       "      <th>Cluster (4 clusters)</th>\n",
       "    </tr>\n",
       "  </thead>\n",
       "  <tbody>\n",
       "    <tr>\n",
       "      <td>0</td>\n",
       "      <td>12346</td>\n",
       "      <td>1</td>\n",
       "      <td>2</td>\n",
       "      <td>4</td>\n",
       "      <td>0</td>\n",
       "    </tr>\n",
       "    <tr>\n",
       "      <td>1</td>\n",
       "      <td>12747</td>\n",
       "      <td>4</td>\n",
       "      <td>4</td>\n",
       "      <td>4</td>\n",
       "      <td>3</td>\n",
       "    </tr>\n",
       "    <tr>\n",
       "      <td>2</td>\n",
       "      <td>12748</td>\n",
       "      <td>4</td>\n",
       "      <td>4</td>\n",
       "      <td>4</td>\n",
       "      <td>3</td>\n",
       "    </tr>\n",
       "    <tr>\n",
       "      <td>3</td>\n",
       "      <td>12749</td>\n",
       "      <td>4</td>\n",
       "      <td>4</td>\n",
       "      <td>3</td>\n",
       "      <td>3</td>\n",
       "    </tr>\n",
       "    <tr>\n",
       "      <td>4</td>\n",
       "      <td>12820</td>\n",
       "      <td>4</td>\n",
       "      <td>3</td>\n",
       "      <td>3</td>\n",
       "      <td>3</td>\n",
       "    </tr>\n",
       "  </tbody>\n",
       "</table>\n",
       "</div>"
      ],
      "text/plain": [
       "  CustomerID Recency Grade Frequency Grade Monetary Value Grade  \\\n",
       "0      12346             1               2                    4   \n",
       "1      12747             4               4                    4   \n",
       "2      12748             4               4                    4   \n",
       "3      12749             4               4                    3   \n",
       "4      12820             4               3                    3   \n",
       "\n",
       "   Cluster (4 clusters)  \n",
       "0                     0  \n",
       "1                     3  \n",
       "2                     3  \n",
       "3                     3  \n",
       "4                     3  "
      ]
     },
     "execution_count": 30,
     "metadata": {},
     "output_type": "execute_result"
    }
   ],
   "source": [
    "RFM_DataFrame_Grades.head()"
   ]
  },
  {
   "cell_type": "markdown",
   "metadata": {},
   "source": [
    "The four clusters can be described by the habits of the customers within each cluster:\n",
    "\n",
    "Cluster 0 contains customers that haven't made a purchase recently, but they generally shop with average frequency and they spend more money than the average customer.\n",
    "\n",
    "Cluster 1 contains customers that haven't made a purchase recently, shop with below average frequency, and spend less money than the average customer.\n",
    "\n",
    "Cluster 2 contains customers that have recently made a purchase, shop with average frequency, but spend less money than the average customer.\n",
    "\n",
    "Cluster 3 contains customers who have made a recent purchase, shop with a very high frequency, and spend much more money than the average customer. These are our top customers."
   ]
  },
  {
   "cell_type": "code",
   "execution_count": 31,
   "metadata": {},
   "outputs": [
    {
     "data": {
      "text/plain": [
       "array([[1., 3., 3.],\n",
       "       [3., 4., 3.],\n",
       "       [3., 3., 3.],\n",
       "       [3., 3., 2.],\n",
       "       [1., 3., 1.]])"
      ]
     },
     "execution_count": 31,
     "metadata": {},
     "output_type": "execute_result"
    }
   ],
   "source": [
    "#KMeans model with 64 clusters\n",
    "kmeans_64_clusters = KMeans(n_clusters= 64, init='k-means++', random_state=0).fit(X)\n",
    "kmeans_64_clusters.labels_\n",
    "kmeans_64_clusters.cluster_centers_[0:5]"
   ]
  },
  {
   "cell_type": "code",
   "execution_count": 32,
   "metadata": {},
   "outputs": [
    {
     "name": "stdout",
     "output_type": "stream",
     "text": [
      "(array([ 0,  1,  2,  4,  5,  7,  8,  9, 10, 11, 12, 13, 14, 15, 17, 18, 19,\n",
      "       20, 21, 22, 23, 24, 25, 26, 27, 28, 30, 32, 33, 34, 35, 36, 37, 38,\n",
      "       39, 40, 41, 42, 43, 44, 45, 46, 50, 51, 54, 56, 62], dtype=int32), array([ 92, 104, 164,  42, 194, 356,  38,  85, 181, 156, 178, 123, 115,\n",
      "        95, 115, 126, 381,  61, 157,  53,  60,  51,  50,  47,  41,  37,\n",
      "        45,  20,  24,  17,  16,  18,  13,  12,   9,   8,   7,   3,   3,\n",
      "         2,   1,   1, 162,  74,  47, 128, 209]))\n"
     ]
    }
   ],
   "source": [
    "#Placing each customer into a cluster\n",
    "predicted_clusters2 = kmeans_64_clusters.predict(X) # get clusters\n",
    "RFM_DataFrame_Grades[\"Cluster (64 clusters)\"] = predicted_clusters2\n",
    "print(np.unique(predicted_clusters2, return_counts=True))"
   ]
  },
  {
   "cell_type": "code",
   "execution_count": 33,
   "metadata": {},
   "outputs": [
    {
     "data": {
      "text/html": [
       "<div>\n",
       "<style scoped>\n",
       "    .dataframe tbody tr th:only-of-type {\n",
       "        vertical-align: middle;\n",
       "    }\n",
       "\n",
       "    .dataframe tbody tr th {\n",
       "        vertical-align: top;\n",
       "    }\n",
       "\n",
       "    .dataframe thead th {\n",
       "        text-align: right;\n",
       "    }\n",
       "</style>\n",
       "<table border=\"1\" class=\"dataframe\">\n",
       "  <thead>\n",
       "    <tr style=\"text-align: right;\">\n",
       "      <th></th>\n",
       "      <th>CustomerID</th>\n",
       "      <th>Recency Grade</th>\n",
       "      <th>Frequency Grade</th>\n",
       "      <th>Monetary Value Grade</th>\n",
       "      <th>Cluster (4 clusters)</th>\n",
       "      <th>Cluster (64 clusters)</th>\n",
       "    </tr>\n",
       "  </thead>\n",
       "  <tbody>\n",
       "    <tr>\n",
       "      <td>0</td>\n",
       "      <td>12346</td>\n",
       "      <td>1</td>\n",
       "      <td>2</td>\n",
       "      <td>4</td>\n",
       "      <td>0</td>\n",
       "      <td>28</td>\n",
       "    </tr>\n",
       "    <tr>\n",
       "      <td>1</td>\n",
       "      <td>12747</td>\n",
       "      <td>4</td>\n",
       "      <td>4</td>\n",
       "      <td>4</td>\n",
       "      <td>3</td>\n",
       "      <td>19</td>\n",
       "    </tr>\n",
       "    <tr>\n",
       "      <td>2</td>\n",
       "      <td>12748</td>\n",
       "      <td>4</td>\n",
       "      <td>4</td>\n",
       "      <td>4</td>\n",
       "      <td>3</td>\n",
       "      <td>19</td>\n",
       "    </tr>\n",
       "    <tr>\n",
       "      <td>3</td>\n",
       "      <td>12749</td>\n",
       "      <td>4</td>\n",
       "      <td>4</td>\n",
       "      <td>3</td>\n",
       "      <td>3</td>\n",
       "      <td>56</td>\n",
       "    </tr>\n",
       "    <tr>\n",
       "      <td>4</td>\n",
       "      <td>12820</td>\n",
       "      <td>4</td>\n",
       "      <td>3</td>\n",
       "      <td>3</td>\n",
       "      <td>3</td>\n",
       "      <td>18</td>\n",
       "    </tr>\n",
       "  </tbody>\n",
       "</table>\n",
       "</div>"
      ],
      "text/plain": [
       "  CustomerID Recency Grade Frequency Grade Monetary Value Grade  \\\n",
       "0      12346             1               2                    4   \n",
       "1      12747             4               4                    4   \n",
       "2      12748             4               4                    4   \n",
       "3      12749             4               4                    3   \n",
       "4      12820             4               3                    3   \n",
       "\n",
       "   Cluster (4 clusters)  Cluster (64 clusters)  \n",
       "0                     0                     28  \n",
       "1                     3                     19  \n",
       "2                     3                     19  \n",
       "3                     3                     56  \n",
       "4                     3                     18  "
      ]
     },
     "execution_count": 33,
     "metadata": {},
     "output_type": "execute_result"
    }
   ],
   "source": [
    "RFM_DataFrame_Grades.head()"
   ]
  },
  {
   "cell_type": "markdown",
   "metadata": {},
   "source": [
    "Each cluster is represented exactly by a combination of 'Recency Grade', 'Frequency Grade', and 'Monetary Value Grade'. Cluster 0, for example, has centroids at [1, 3, 3]. Therefore we know this cluster represents customers that haven't made a purchase in a very long time, but they buy at above average frequency and spend an above-average amount of money."
   ]
  },
  {
   "cell_type": "markdown",
   "metadata": {},
   "source": [
    "The scores of each model are printed below:"
   ]
  },
  {
   "cell_type": "code",
   "execution_count": 34,
   "metadata": {},
   "outputs": [
    {
     "name": "stdout",
     "output_type": "stream",
     "text": [
      "Four Cluster Model Score: -3161.70\n",
      "Sixty-Four Cluster Model Score: -0.00\n"
     ]
    }
   ],
   "source": [
    "four_cluster_score = kmeans_four_clusters.score(X)\n",
    "sixtyfour_cluster_score = kmeans_64_clusters.score(X)\n",
    "print('Four Cluster Model Score: {:.2f}'.format(four_cluster_score))\n",
    "print('Sixty-Four Cluster Model Score: {:.2f}'.format(sixtyfour_cluster_score))"
   ]
  },
  {
   "cell_type": "markdown",
   "metadata": {},
   "source": [
    "As expected, the sixty-four cluster model has a perfect score. Although the four cluster model doesn't create perfect clusters, the similarity of customers within a cluster is very high. In addition, the four cluster model will be much easier for a marketing team to handle. It would be extremely difficult and likely not worthwile for a marketing team to create a specialized plan for 64 types of customers. The difficulty is amplified by the fact that there is not much distinction between a lot of the clusters in the sixty-four cluster model. However, making a tailored strategy for four distinct, well-defined clusters is much more doable and can be much more effective as well. Therefore, the four cluster model is chosen to segment the customers."
   ]
  },
  {
   "cell_type": "markdown",
   "metadata": {},
   "source": [
    "Below is a sample of ten customers from each cluster:"
   ]
  },
  {
   "cell_type": "code",
   "execution_count": 35,
   "metadata": {},
   "outputs": [
    {
     "name": "stdout",
     "output_type": "stream",
     "text": [
      "\n",
      "Cluster# 0\n",
      "   CustomerID Recency Grade Frequency Grade Monetary Value Grade\n",
      "0       12346             1               2                    4\n",
      "7       12823             2               4                    4\n",
      "12      12829             1               3                    3\n",
      "22      12840             1               3                    4\n",
      "25      12843             2               4                    3\n",
      "27      12845             1               3                    4\n",
      "32      12853             2               4                    4\n",
      "33      12854             2               3                    4\n",
      "36      12857             1               3                    3\n",
      "37      12863             2               2                    4\n",
      "\n",
      "\n",
      "\n",
      "Cluster# 1\n",
      "   CustomerID Recency Grade Frequency Grade Monetary Value Grade\n",
      "5       12821             1               2                    2\n",
      "6       12822             2               3                    2\n",
      "8       12824             2               2                    1\n",
      "14      12831             1               2                    2\n",
      "16      12833             1               2                    1\n",
      "17      12834             1               2                    1\n",
      "18      12836             2               3                    2\n",
      "19      12837             1               2                    1\n",
      "24      12842             2               3                    2\n",
      "30      12851             2               2                    1\n",
      "\n",
      "\n",
      "\n",
      "Cluster# 2\n",
      "   CustomerID Recency Grade Frequency Grade Monetary Value Grade\n",
      "15      12832             3               3                    2\n",
      "20      12838             3               3                    1\n",
      "26      12844             3               3                    1\n",
      "28      12847             3               2                    1\n",
      "29      12849             3               3                    2\n",
      "35      12856             4               4                    2\n",
      "55      12890             3               2                    1\n",
      "57      12893             3               2                    1\n",
      "58      12895             3               3                    2\n",
      "62      12904             3               3                    1\n",
      "\n",
      "\n",
      "\n",
      "Cluster# 3\n",
      "   CustomerID Recency Grade Frequency Grade Monetary Value Grade\n",
      "1       12747             4               4                    4\n",
      "2       12748             4               4                    4\n",
      "3       12749             4               4                    3\n",
      "4       12820             4               3                    3\n",
      "9       12826             4               4                    3\n",
      "10      12827             4               3                    3\n",
      "11      12828             4               4                    4\n",
      "13      12830             3               4                    4\n",
      "21      12839             4               4                    4\n",
      "23      12841             4               4                    4\n",
      "\n",
      "\n"
     ]
    }
   ],
   "source": [
    "RFM_DataFrame_Cluster = RFM_DataFrame_Grades.drop('Cluster (64 clusters)', axis = 1)\n",
    "RFM_DataFrame_wo_Cluster = RFM_DataFrame_Cluster.drop('Cluster (4 clusters)', axis = 1)\n",
    "for i in range(len(np.unique(predicted_clusters1))):\n",
    "    print(\"\\nCluster#\",i)\n",
    "    print(RFM_DataFrame_wo_Cluster[RFM_DataFrame_Cluster[\"Cluster (4 clusters)\"]==i].head(10))\n",
    "    print(\"\\n\") "
   ]
  },
  {
   "cell_type": "markdown",
   "metadata": {},
   "source": [
    "As expected, the customers in Cluster 0 haven't made a purchase in a while, but shop with around average to above-average frequency and spend more than the average customer. The customers in cluster 1 also haven't made a purchase in a while, but they shop with below-average to average frequency and spend much less than the average customer. Customers in Cluster 2 have shopped recently, and they shop with high frequency. However, these customers spend far below the average customer. Customers in Cluster 3 have shopped very recently, and they shop very frequently and spend much more than the average customer.\n",
    "\n",
    "All of these charactersitics were expected, thus we can conclude that the model has segmented the customers successfully."
   ]
  },
  {
   "cell_type": "markdown",
   "metadata": {},
   "source": [
    "## Discussion"
   ]
  },
  {
   "cell_type": "markdown",
   "metadata": {},
   "source": [
    "Every UK customer from this dataset has now been segmented based on his or her buying habits. These segments would then be sent to a marketing team, along with the descriptions for each cluster. From there, specialized offers, discounts, emails, etc. can be sent to each customer based on their cluster. For example, a marketing team may want to reach out to Cluster 3 with an email showing appreciation for being such loyal customers. Perhaps the marketing team should reach out to Clusters 0 and 1 with a discount offer to encourage these customers to visit the site again and make another purchase. Regardless of the marketing strategy, it is clear that these segments will help the marketing team execute their strategy more effectively."
   ]
  },
  {
   "cell_type": "markdown",
   "metadata": {},
   "source": [
    "While this segmentation provides a lot of value, it admittedly does not maximize the amount of value that could be obtained from this dataset. About 10% of the company's customers are located outside of the United Kingdom. Since this segmentation focused only on domestic customers, these 10% of customers were not placed in a cluster. Therefore, the marketing team does not have any insight for how to approach these customers. Also, the actual item purchased in each transaction was included in the dataset, but it was not used for this analysis. If a model was created that included the type of items we expect each customer to see, the marketing team would be able to send even more personalized offers to each customer.\n"
   ]
  },
  {
   "cell_type": "markdown",
   "metadata": {},
   "source": [
    "## Conclusion"
   ]
  },
  {
   "cell_type": "markdown",
   "metadata": {},
   "source": [
    "A dataset from UCI Machine Learning Repository was cleaned and examined. After deciding upon an RFM analysis, three new features were generated to allow the categorization of a customer based on his or her most recent purchase date, how often he or she places an order, and how much he or she spends when shopping. Upon creation of these features, it was found that Kmeans clustering was failing to generate meaningful clusters due to extreme outliers. Therefore, three new features were generated that gave each customer three 'grades' between 1 and 4 based on the three factors of RFM. These grades were then used to train a KMeans algorithm with four clusters (determined using an Elbow Curve) and then all of the customers were placed into a cluster. The centroids of each cluster were examined to determine the characteristics of the customers placed in each cluster. This data would theoretically be passed along to a marketing team to allow them to execute an effective strategy to increase customer retention, engagement, and money spent."
   ]
  }
 ],
 "metadata": {
  "kernelspec": {
   "display_name": "Python 3",
   "language": "python",
   "name": "python3"
  },
  "language_info": {
   "codemirror_mode": {
    "name": "ipython",
    "version": 3
   },
   "file_extension": ".py",
   "mimetype": "text/x-python",
   "name": "python",
   "nbconvert_exporter": "python",
   "pygments_lexer": "ipython3",
   "version": "3.7.4"
  }
 },
 "nbformat": 4,
 "nbformat_minor": 4
}
